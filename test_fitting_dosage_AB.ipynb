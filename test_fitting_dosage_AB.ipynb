{
  "nbformat": 4,
  "nbformat_minor": 0,
  "metadata": {
    "colab": {
      "name": "test fitting dosage AB.ipynb",
      "provenance": [],
      "collapsed_sections": [],
      "include_colab_link": true
    },
    "kernelspec": {
      "name": "python3",
      "display_name": "Python 3"
    }
  },
  "cells": [
    {
      "cell_type": "markdown",
      "metadata": {
        "id": "view-in-github",
        "colab_type": "text"
      },
      "source": [
        "<a href=\"https://colab.research.google.com/github/elabbe-prof/elabbe-prof/blob/main/test_fitting_dosage_AB.ipynb\" target=\"_parent\"><img src=\"https://colab.research.google.com/assets/colab-badge.svg\" alt=\"Open In Colab\"/></a>"
      ]
    },
    {
      "cell_type": "code",
      "metadata": {
        "id": "4orrZmPfDMTD"
      },
      "source": [
        ""
      ],
      "execution_count": null,
      "outputs": []
    },
    {
      "cell_type": "markdown",
      "metadata": {
        "id": "9rafHoIpF84W"
      },
      "source": [
        ""
      ]
    },
    {
      "cell_type": "markdown",
      "metadata": {
        "id": "j8vWMd7rXjGO"
      },
      "source": [
        "#**Simulation Monte Carlo pour un titrage**\n",
        "\n",
        "\n",
        "#Situation expérimentale et objectif\n",
        "\n",
        "* On considère le titrage d'un volume $V_a = 10\\, mL$ d'une solution d'acide chlorhydrique $(\\textrm{H}_3 \\textrm{O}^+, \\textrm{C}\\ell^-)$ par une solution de soude $(\\textrm{Na}^+, \\textrm{HO}^-)$ de concentration :\n",
        "$$ \\begin{cases}\n",
        "C_s=1,010 \\cdot 10^{-2}\\, mol\\,L^{-1} \\\\\n",
        "u(C_s) = 0,023\\cdot 10^{-2} \\, mol\\,L^{-1}\n",
        "\\end{cases}$$ L'équivalence est repérée par changement de couleur [non ambigü] de l'indicateur de fin de réaction grossièrement pour $V_{eq}=11,5 \\, mL$.\n",
        "\n",
        "* On cherche à donner une valeur de $C_a$ munie de son incertitude-type à l'aide d'une simulation Monte-Carlo.\n",
        "\n",
        "#Concentration de la solution d'acide\n",
        "\n",
        "* Equation de la réaction de titrage $\\textrm{H}_3 \\textrm{O}^+(aq)+\\textrm{HO}^-(aq) \\longrightarrow \\textrm{2H}_2\\textrm{O}(\\ell)$ de constante d'équilibre $K°=10^{14}\\space à \\space 25°C$\n",
        "* A l'équivalence, les réactifs ont été introduits dans les proportions stoechiométriques : $n_0(H_3O^+)=n(HO^-)_{0\\rightarrow eq}$, soit $C_a=\\frac{C_s\\cdot V_{eq}}{V_a}$ ; On\n",
        "\n",
        "#Sources d'incertitudes\n",
        "\n",
        "* Tolérance de la pipette $\\Delta_V=0,1\\space mL$ ; la tolérance correspond à la demie-étendue et sera affectée à la variable `t_Va` ;\n",
        "* Concentration de la solution titrante : $u(C_s)=0,023\\cdot 10^{-2} \\space mol\\space L^{-1}$ ; fournie par le technicien du laboratoire et affectée à la variable `u_Cs` ; \n",
        "* Pour le volume équivalent $V_{eq}$, on estime la demie-étendue à  0,05 mL et on l'affecte à la variable `a_Veq`.\n",
        "\n",
        "#Simulation Monte-Carlo\n",
        "\n",
        "* Principe : on génère, *in silico*, un grand nombre d'expériences de mesurages virtuelles puis on utilise une méthode de type A pour estimer l'incertitude-type ; \n",
        "* Utilisation de la bibliothèque `numpy` pour générer des nombres aléatoires ; \n",
        "  * `rd.uniform(X-a, X+a, size)` permet de créer un array (de taille size) de valeurs de X tirées aléatoirement entre $X-a$ et $X+a$ et issues d'une distribution uniforme (ou rectangulaire) ;  cette distribution uniforme est usuellement choisie dès lors que l'on sait que la valeur mesurée est incluse dans un intervalle dont les bornes sont bien connues *ie* dès lors que l'on connaît la demi-étendue a. C'est le cas pour $V_{eq}$ et $V_a$ ; \n",
        "  * `rd.normal(X,u(X),size)`crée un array (de taille size) contenant des valeurs de X tirées aléatoirement et issues d'une distribution gaussienne d'espérance X et d'écart-type u(X). On utilise une hypothèse de distribution gaussienne dès lors que l'on ne connaît pas la distribution exacte mais que l'on connaît l'incertitude-type (ou l'écart-type). C'est le cas pour $C_s$ ; \n",
        "  * Il existe également un générateur de nombres selon une distribution triangulaire que nous choisissons de ne pas présenter car anecdotique.\n",
        "\n",
        "\n",
        "\n"
      ]
    },
    {
      "cell_type": "code",
      "metadata": {
        "colab": {
          "base_uri": "https://localhost:8080/",
          "height": 131
        },
        "id": "8bEqMV2SDqk6",
        "outputId": "0460260c-a990-4388-82b7-2dcbb54a6368"
      },
      "source": [
        "import numpy as np\n",
        "import numpy.random as rd             #Générateur de nombre aléatoires\n",
        "import matplotlib.pyplot as plt       #Pour tracer divers types de graphiques\n",
        "\n",
        "with open(C:\\Users\\elabbe\\desktop\\\"vinaigre.csv\") as f:       # Open the file and assign it to a new variable which we call 'f'.\n",
        "                                          # The file will be read-only by default.\n",
        "                                          # As long as the following code is indented, the file 'f' will be open.\n",
        "    for line in f:                        # We use a for loop to iterate through the file one line at a time.\n",
        "        print(line)                       # We simply print the line.\n",
        "        \n",
        "print(\"I'm on to something else now.\")    # When we are finished with this file, we stop indenting the code and the file is closed automatically."
      ],
      "execution_count": null,
      "outputs": [
        {
          "output_type": "error",
          "ename": "SyntaxError",
          "evalue": "ignored",
          "traceback": [
            "\u001b[0;36m  File \u001b[0;32m\"<ipython-input-2-5f45eb2ee09d>\"\u001b[0;36m, line \u001b[0;32m5\u001b[0m\n\u001b[0;31m    with open(C:\\Users\\elabbe\\desktop\\\"vinaigre.csv\") as f:       # Open the file and assign it to a new variable which we call 'f'.\u001b[0m\n\u001b[0m               ^\u001b[0m\n\u001b[0;31mSyntaxError\u001b[0m\u001b[0;31m:\u001b[0m invalid syntax\n"
          ]
        }
      ]
    },
    {
      "cell_type": "markdown",
      "metadata": {
        "id": "i3FIGXvIvWgW"
      },
      "source": [
        "#Présentation du résultat avec les canons en vigueur\n",
        "\n",
        "* Deux chiffres significatifs pour l'incertitude-type ; \n",
        "* Autant de chiffres après la virgule pour la valeur mesurée et l'incertitude-type ; \n",
        "* Privilégier l'écriture scientfique avec la même puissance de 10 pour la valeur mesurée et l'incertitude-type.\n",
        "* Règles classiques d'arrondissage si cela est nécessaire.\n",
        "\n",
        "Soit $\\begin{cases} \n",
        "C_a=1,\\!150 \\cdot 10^{-2} \\; \\textrm{mol}\\,\\textrm{L}^{-1} \\\\\n",
        "u(C_a) = 0,\\!027 \\cdot 10^{-2} \\; \\textrm{mol }\\, \\textrm{L}^{-1}\n",
        "\\end{cases}$"
      ]
    },
    {
      "cell_type": "code",
      "metadata": {
        "id": "hJ_t0wZ2xN2F",
        "colab": {
          "base_uri": "https://localhost:8080/",
          "height": 295
        },
        "outputId": "53fc9300-0410-4401-f671-3051e3c4ca59"
      },
      "source": [
        "#On peut représenter un histogramme des mesures comme vu au lycée. \n",
        "\n",
        "plt.hist(Ca,bins='rice',label='Histogramme des mesures',color='magenta')\n",
        "plt.title('Histrogramme pour N = 100000 simulations')\n",
        "plt.xlabel('Ca (mol/L)')\n",
        "plt.ylabel('Effectifs')\n",
        "plt.legend()\n",
        "plt.show()\n"
      ],
      "execution_count": null,
      "outputs": [
        {
          "output_type": "display_data",
          "data": {
            "image/png": "[encoded data removed]",
            "text/plain": [
              "<Figure size 432x288 with 1 Axes>"
            ]
          },
          "metadata": {
            "needs_background": "light"
          }
        }
      ]
    }
  ]
}